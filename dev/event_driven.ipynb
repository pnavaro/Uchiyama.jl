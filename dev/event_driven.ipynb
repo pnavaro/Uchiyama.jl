{
 "cells": [
  {
   "cell_type": "markdown",
   "source": [
    "-*- coding: utf-8 -*-"
   ],
   "metadata": {}
  },
  {
   "outputs": [],
   "cell_type": "code",
   "source": [
    "using Plots\n",
    "using Random\n",
    "using ProgressMeter\n",
    "using Revise"
   ],
   "metadata": {},
   "execution_count": null
  },
  {
   "cell_type": "markdown",
   "source": [
    "+"
   ],
   "metadata": {}
  },
  {
   "outputs": [],
   "cell_type": "code",
   "source": [
    "using Uchiyama\n",
    "\n",
    "n = 50 # number of particles\n",
    "ϵ = 0.02\n",
    "c = trunc(Int, 200ϵ) # marker size\n",
    "\n",
    "rng = MersenneTwister(1234)\n",
    "\n",
    "particles = SquareParticles(rng, n, ϵ, option = :box)\n",
    "pc = ParticleCollisions(particles)\n",
    "bc = BoxCollisions(particles)"
   ],
   "metadata": {},
   "execution_count": null
  },
  {
   "cell_type": "markdown",
   "source": [
    "+"
   ],
   "metadata": {}
  },
  {
   "outputs": [],
   "cell_type": "code",
   "source": [
    "steps = 1000\n",
    "pbar = Progress(steps)\n",
    "\n",
    "anim = @animate for _ in 1:steps\n",
    "\n",
    "     dt = step!(particles, pc, bc)\n",
    "\n",
    "     p = plot(size  = (200,200),\n",
    "              xlims = (-0.5,0.5),\n",
    "              ylims = (-0.5,0.5),\n",
    "              grid  = false,\n",
    "              axis  = nothing, framestyle= :box, legend=false, widen = false)\n",
    "\n",
    "     scatter!( getindex.(particles.q,1) .- getindex.(particles.q,2),\n",
    "               getindex.(particles.q,2) .+ getindex.(particles.q,1),\n",
    "               markershape  = :square,\n",
    "               markersize   = c,\n",
    "               aspect_ratio = :equal)\n",
    "     next!(pbar)\n",
    "\n",
    "end every 10"
   ],
   "metadata": {},
   "execution_count": null
  },
  {
   "cell_type": "markdown",
   "source": [
    "-"
   ],
   "metadata": {}
  },
  {
   "outputs": [],
   "cell_type": "code",
   "source": [
    "gif(anim, joinpath(@__DIR__, \"event_driven.gif\"), fps = 10)"
   ],
   "metadata": {},
   "execution_count": null
  },
  {
   "cell_type": "markdown",
   "source": [
    "---\n",
    "\n",
    "*This notebook was generated using [Literate.jl](https://github.com/fredrikekre/Literate.jl).*"
   ],
   "metadata": {}
  }
 ],
 "nbformat_minor": 3,
 "metadata": {
  "language_info": {
   "file_extension": ".jl",
   "mimetype": "application/julia",
   "name": "julia",
   "version": "1.5.2"
  },
  "kernelspec": {
   "name": "julia-1.5",
   "display_name": "Julia 1.5.2",
   "language": "julia"
  }
 },
 "nbformat": 4
}
