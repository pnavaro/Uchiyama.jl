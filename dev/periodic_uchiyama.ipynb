{
 "cells": [
  {
   "cell_type": "markdown",
   "source": [
    "# Uchiyama model periodic"
   ],
   "metadata": {}
  },
  {
   "outputs": [],
   "cell_type": "code",
   "source": [
    "import Pkg\n",
    "Pkg.add(url=\"https://github.com/pnavaro/Uchiyama.jl\")"
   ],
   "metadata": {},
   "execution_count": null
  },
  {
   "outputs": [],
   "cell_type": "code",
   "source": [
    "using Plots\n",
    "using Random\n",
    "using Uchiyama\n",
    "\n",
    "\n",
    "n = 50 # number of particles\n",
    "ϵ = 0.02\n",
    "c = trunc(Int, 200ϵ) # marker size\n",
    "\n",
    "rng = MersenneTwister(1234)\n",
    "\n",
    "squares = SquareParticles(rng, n, ϵ)\n",
    "\n",
    "collisions = PeriodicCollisions(squares)\n",
    "\n",
    "steps = 500\n",
    "\n",
    "anim = @animate for _ in 1:steps\n",
    "\n",
    "     dt = step!(squares, collisions)\n",
    "\n",
    "     p = plot(size  = (200,200),\n",
    "              xlims = (0,1),\n",
    "              ylims = (0,1),\n",
    "              grid  = false,\n",
    "              axis  = nothing, legend=false, framestyle = :none, widen = false)\n",
    "\n",
    "     scatter!( getindex.(squares.q,1),\n",
    "               getindex.(squares.q,2),\n",
    "               markershape  = :diamond,\n",
    "               markersize   = c,\n",
    "               aspect_ratio = :equal)\n",
    "\n",
    "end\n",
    "\n",
    "gif(anim, joinpath(@__DIR__, \"periodic_uchiyama.gif\"), fps = 20)"
   ],
   "metadata": {},
   "execution_count": null
  },
  {
   "cell_type": "markdown",
   "source": [
    "---\n",
    "\n",
    "*This notebook was generated using [Literate.jl](https://github.com/fredrikekre/Literate.jl).*"
   ],
   "metadata": {}
  }
 ],
 "nbformat_minor": 3,
 "metadata": {
  "language_info": {
   "file_extension": ".jl",
   "mimetype": "application/julia",
   "name": "julia",
   "version": "1.10.4"
  },
  "kernelspec": {
   "name": "julia-1.10",
   "display_name": "Julia 1.10.4",
   "language": "julia"
  }
 },
 "nbformat": 4
}
