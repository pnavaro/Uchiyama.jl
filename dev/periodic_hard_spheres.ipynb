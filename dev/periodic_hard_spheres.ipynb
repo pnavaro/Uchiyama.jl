{
 "cells": [
  {
   "cell_type": "markdown",
   "source": [
    "# Hard spheres in periodic domain"
   ],
   "metadata": {}
  },
  {
   "outputs": [],
   "cell_type": "code",
   "source": [
    "import Pkg\n",
    "Pkg.add(url=\"https://github.com/pnavaro/Uchiyama.jl\")"
   ],
   "metadata": {},
   "execution_count": null
  },
  {
   "outputs": [],
   "cell_type": "code",
   "source": [
    "using Plots\n",
    "using Random\n",
    "using Uchiyama\n",
    "\n",
    "\n",
    "n = 100 # number of particles\n",
    "ϵ = 0.02\n",
    "c = trunc(Int, 200ϵ) # marker size\n",
    "\n",
    "rng = MersenneTwister(1234)\n",
    "\n",
    "hs = HardSpheres(rng, n, ϵ)\n",
    "pc = PeriodicCollisions(hs)\n",
    "\n",
    "steps = 1000\n",
    "\n",
    "anim = @animate for _ in 1:steps\n",
    "\n",
    "    dt = step!(hs, pc)\n",
    "\n",
    "    p = plot(size  = (200,200),\n",
    "             xlims = (0,1),\n",
    "             ylims = (0,1),\n",
    "             grid  = false,\n",
    "             axis  = nothing,\n",
    "             framestyle= :none,\n",
    "             legend=false,\n",
    "             widen = false)\n",
    "\n",
    "    scatter!( getindex.(hs.q,1),\n",
    "              getindex.(hs.q,2),\n",
    "              markershape  = :circle,\n",
    "              markersize   = c,\n",
    "              aspect_ratio = :equal)\n",
    "\n",
    "end every 10\n",
    "\n",
    "gif(anim, joinpath(@__DIR__, \"periodic_hard_spheres.gif\"), fps = 20)"
   ],
   "metadata": {},
   "execution_count": null
  },
  {
   "cell_type": "markdown",
   "source": [
    "---\n",
    "\n",
    "*This notebook was generated using [Literate.jl](https://github.com/fredrikekre/Literate.jl).*"
   ],
   "metadata": {}
  }
 ],
 "nbformat_minor": 3,
 "metadata": {
  "language_info": {
   "file_extension": ".jl",
   "mimetype": "application/julia",
   "name": "julia",
   "version": "1.11.7"
  },
  "kernelspec": {
   "name": "julia-1.11",
   "display_name": "Julia 1.11.7",
   "language": "julia"
  }
 },
 "nbformat": 4
}