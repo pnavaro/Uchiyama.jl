{
 "cells": [
  {
   "cell_type": "markdown",
   "source": [
    "# Hard spheres in a box"
   ],
   "metadata": {}
  },
  {
   "outputs": [],
   "cell_type": "code",
   "source": [
    "using Plots\n",
    "using Random\n",
    "using ProgressMeter\n",
    "using Revise"
   ],
   "metadata": {},
   "execution_count": null
  },
  {
   "cell_type": "markdown",
   "source": [
    "+"
   ],
   "metadata": {}
  },
  {
   "outputs": [],
   "cell_type": "code",
   "source": [
    "using Uchiyama\n",
    "\n",
    "n = 50 # number of particles\n",
    "ϵ = 0.02\n",
    "c = trunc(Int, 200ϵ) # marker size\n",
    "\n",
    "rng = MersenneTwister(1234)\n",
    "\n",
    "hs = HardSpheres(rng, n, ϵ)\n",
    "pc = ParticleCollisions(hs)\n",
    "bc = BoxCollisions(hs)"
   ],
   "metadata": {},
   "execution_count": null
  },
  {
   "cell_type": "markdown",
   "source": [
    "+"
   ],
   "metadata": {}
  },
  {
   "outputs": [],
   "cell_type": "code",
   "source": [
    "steps = 500\n",
    "pbar = Progress(steps)\n",
    "\n",
    "anim = @animate for _ in 1:steps\n",
    "\n",
    "    dt = step!(hs, pc, bc)\n",
    "\n",
    "    p = plot(size  = (200,200),\n",
    "             xlims = (0,1),\n",
    "             ylims = (0,1),\n",
    "             grid  = false,\n",
    "             axis  = nothing,\n",
    "             framestyle= :box,\n",
    "             legend=false,\n",
    "             widen = false)\n",
    "\n",
    "    scatter!( getindex.(hs.q,1),\n",
    "              getindex.(hs.q,2),\n",
    "              markershape  = :circle,\n",
    "              markersize   = c,\n",
    "              aspect_ratio = :equal)\n",
    "\n",
    "    next!(pbar)\n",
    "\n",
    "end"
   ],
   "metadata": {},
   "execution_count": null
  },
  {
   "cell_type": "markdown",
   "source": [
    "-"
   ],
   "metadata": {}
  },
  {
   "outputs": [],
   "cell_type": "code",
   "source": [
    "gif(anim, joinpath(@__DIR__, \"hard_spheres.gif\"), fps = 20)"
   ],
   "metadata": {},
   "execution_count": null
  },
  {
   "cell_type": "markdown",
   "source": [
    "---\n",
    "\n",
    "*This notebook was generated using [Literate.jl](https://github.com/fredrikekre/Literate.jl).*"
   ],
   "metadata": {}
  }
 ],
 "nbformat_minor": 3,
 "metadata": {
  "language_info": {
   "file_extension": ".jl",
   "mimetype": "application/julia",
   "name": "julia",
   "version": "1.5.2"
  },
  "kernelspec": {
   "name": "julia-1.5",
   "display_name": "Julia 1.5.2",
   "language": "julia"
  }
 },
 "nbformat": 4
}
